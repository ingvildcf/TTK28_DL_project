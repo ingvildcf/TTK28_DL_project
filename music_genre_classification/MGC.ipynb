{
 "cells": [
  {
   "cell_type": "markdown",
   "id": "6b87d8de",
   "metadata": {},
   "source": [
    "# Music Genre Classification "
   ]
  },
  {
   "cell_type": "code",
   "execution_count": 2,
   "id": "8c1dd5ce",
   "metadata": {},
   "outputs": [
    {
     "name": "stdout",
     "output_type": "stream",
     "text": [
      "hub://activeloop/gtzan-genre loaded successfully.\n",
      "This dataset can be visualized in Jupyter Notebook by ds.visualize() or at https://app.activeloop.ai/activeloop/gtzan-genre\n"
     ]
    }
   ],
   "source": [
    "from audiomentations import Compose, AddGaussianNoise, TimeStretch, PitchShift, Shift\n",
    "import numpy as np\n",
    "import pandas as pd\n",
    "import matplotlib.pyplot as plt\n",
    "import librosa\n",
    "from tqdm import tqdm\n",
    "import os\n",
    "\n",
    "import deeplake\n",
    "ds = deeplake.load(\"hub://activeloop/gtzan-genre\")"
   ]
  },
  {
   "cell_type": "markdown",
   "id": "336740c7",
   "metadata": {},
   "source": [
    "## Augment data"
   ]
  },
  {
   "cell_type": "code",
   "execution_count": 3,
   "id": "f1209268",
   "metadata": {},
   "outputs": [],
   "source": [
    "add_noise = Compose([\n",
    "    AddGaussianNoise(min_amplitude=0.001, max_amplitude=0.015, p=0.7),\n",
    "])\n",
    "pitch_shift = Compose([\n",
    "    PitchShift(min_semitones=-4, max_semitones=12, p=0.5),\n",
    "])"
   ]
  },
  {
   "cell_type": "code",
   "execution_count": 4,
   "id": "c81adc66",
   "metadata": {},
   "outputs": [
    {
     "name": "stderr",
     "output_type": "stream",
     "text": [
      "C:\\Users\\ingvilcf\\AppData\\Local\\Temp\\ipykernel_25040\\1839577337.py:11: FutureWarning: Pass y=Dataset(path='hub://activeloop/gtzan-genre', read_only=True, tensors=['audio', 'genre']) as keyword args. From version 0.10 passing these as positional arguments will result in an error\n",
      "  S = librosa.feature.melspectrogram(sample, sr=sample_rate, n_fft=n_fft, hop_length=hop_length, n_mels=n_mels)\n"
     ]
    },
    {
     "ename": "ParameterError",
     "evalue": "Audio data must be of type numpy.ndarray",
     "output_type": "error",
     "traceback": [
      "\u001b[1;31m---------------------------------------------------------------------------\u001b[0m",
      "\u001b[1;31mParameterError\u001b[0m                            Traceback (most recent call last)",
      "Cell \u001b[1;32mIn [4], line 11\u001b[0m\n\u001b[0;32m      8\u001b[0m sample \u001b[39m=\u001b[39m ds\n\u001b[0;32m     10\u001b[0m \u001b[39m#extract melspec features using librosa\u001b[39;00m\n\u001b[1;32m---> 11\u001b[0m S \u001b[39m=\u001b[39m librosa\u001b[39m.\u001b[39;49mfeature\u001b[39m.\u001b[39;49mmelspectrogram(sample, sr\u001b[39m=\u001b[39;49msample_rate, n_fft\u001b[39m=\u001b[39;49mn_fft, hop_length\u001b[39m=\u001b[39;49mhop_length, n_mels\u001b[39m=\u001b[39;49mn_mels)\n\u001b[0;32m     13\u001b[0m \u001b[39m#convert it to DB scale\u001b[39;00m\n\u001b[0;32m     14\u001b[0m S_DB \u001b[39m=\u001b[39m librosa\u001b[39m.\u001b[39mpower_to_db(S, ref\u001b[39m=\u001b[39mnp\u001b[39m.\u001b[39mmax)\n",
      "File \u001b[1;32m~\\AppData\\Local\\Packages\\PythonSoftwareFoundation.Python.3.10_qbz5n2kfra8p0\\LocalCache\\local-packages\\Python310\\site-packages\\librosa\\util\\decorators.py:104\u001b[0m, in \u001b[0;36mdeprecate_positional_args.<locals>._inner_deprecate_positional_args.<locals>.inner_f\u001b[1;34m(*args, **kwargs)\u001b[0m\n\u001b[0;32m     96\u001b[0m warnings\u001b[39m.\u001b[39mwarn(\n\u001b[0;32m     97\u001b[0m     \u001b[39mf\u001b[39m\u001b[39m\"\u001b[39m\u001b[39mPass \u001b[39m\u001b[39m{\u001b[39;00margs_msg\u001b[39m}\u001b[39;00m\u001b[39m as keyword args. From version \u001b[39m\u001b[39m\"\u001b[39m\n\u001b[0;32m     98\u001b[0m     \u001b[39mf\u001b[39m\u001b[39m\"\u001b[39m\u001b[39m{\u001b[39;00mversion\u001b[39m}\u001b[39;00m\u001b[39m passing these as positional arguments \u001b[39m\u001b[39m\"\u001b[39m\n\u001b[1;32m   (...)\u001b[0m\n\u001b[0;32m    101\u001b[0m     stacklevel\u001b[39m=\u001b[39m\u001b[39m2\u001b[39m,\n\u001b[0;32m    102\u001b[0m )\n\u001b[0;32m    103\u001b[0m kwargs\u001b[39m.\u001b[39mupdate(\u001b[39mzip\u001b[39m(sig\u001b[39m.\u001b[39mparameters, args))\n\u001b[1;32m--> 104\u001b[0m \u001b[39mreturn\u001b[39;00m f(\u001b[39m*\u001b[39m\u001b[39m*\u001b[39mkwargs)\n",
      "File \u001b[1;32m~\\AppData\\Local\\Packages\\PythonSoftwareFoundation.Python.3.10_qbz5n2kfra8p0\\LocalCache\\local-packages\\Python310\\site-packages\\librosa\\feature\\spectral.py:2043\u001b[0m, in \u001b[0;36mmelspectrogram\u001b[1;34m(y, sr, S, n_fft, hop_length, win_length, window, center, pad_mode, power, **kwargs)\u001b[0m\n\u001b[0;32m   1922\u001b[0m \u001b[39m@deprecate_positional_args\u001b[39m\n\u001b[0;32m   1923\u001b[0m \u001b[39mdef\u001b[39;00m \u001b[39mmelspectrogram\u001b[39m(\n\u001b[0;32m   1924\u001b[0m     \u001b[39m*\u001b[39m,\n\u001b[1;32m   (...)\u001b[0m\n\u001b[0;32m   1935\u001b[0m     \u001b[39m*\u001b[39m\u001b[39m*\u001b[39mkwargs,\n\u001b[0;32m   1936\u001b[0m ):\n\u001b[0;32m   1937\u001b[0m     \u001b[39m\"\"\"Compute a mel-scaled spectrogram.\u001b[39;00m\n\u001b[0;32m   1938\u001b[0m \n\u001b[0;32m   1939\u001b[0m \u001b[39m    If a spectrogram input ``S`` is provided, then it is mapped directly onto\u001b[39;00m\n\u001b[1;32m   (...)\u001b[0m\n\u001b[0;32m   2040\u001b[0m \u001b[39m    >>> ax.set(title='Mel-frequency spectrogram')\u001b[39;00m\n\u001b[0;32m   2041\u001b[0m \u001b[39m    \"\"\"\u001b[39;00m\n\u001b[1;32m-> 2043\u001b[0m     S, n_fft \u001b[39m=\u001b[39m _spectrogram(\n\u001b[0;32m   2044\u001b[0m         y\u001b[39m=\u001b[39;49my,\n\u001b[0;32m   2045\u001b[0m         S\u001b[39m=\u001b[39;49mS,\n\u001b[0;32m   2046\u001b[0m         n_fft\u001b[39m=\u001b[39;49mn_fft,\n\u001b[0;32m   2047\u001b[0m         hop_length\u001b[39m=\u001b[39;49mhop_length,\n\u001b[0;32m   2048\u001b[0m         power\u001b[39m=\u001b[39;49mpower,\n\u001b[0;32m   2049\u001b[0m         win_length\u001b[39m=\u001b[39;49mwin_length,\n\u001b[0;32m   2050\u001b[0m         window\u001b[39m=\u001b[39;49mwindow,\n\u001b[0;32m   2051\u001b[0m         center\u001b[39m=\u001b[39;49mcenter,\n\u001b[0;32m   2052\u001b[0m         pad_mode\u001b[39m=\u001b[39;49mpad_mode,\n\u001b[0;32m   2053\u001b[0m     )\n\u001b[0;32m   2055\u001b[0m     \u001b[39m# Build a Mel filter\u001b[39;00m\n\u001b[0;32m   2056\u001b[0m     mel_basis \u001b[39m=\u001b[39m filters\u001b[39m.\u001b[39mmel(sr\u001b[39m=\u001b[39msr, n_fft\u001b[39m=\u001b[39mn_fft, \u001b[39m*\u001b[39m\u001b[39m*\u001b[39mkwargs)\n",
      "File \u001b[1;32m~\\AppData\\Local\\Packages\\PythonSoftwareFoundation.Python.3.10_qbz5n2kfra8p0\\LocalCache\\local-packages\\Python310\\site-packages\\librosa\\core\\spectrum.py:2564\u001b[0m, in \u001b[0;36m_spectrogram\u001b[1;34m(y, S, n_fft, hop_length, power, win_length, window, center, pad_mode)\u001b[0m\n\u001b[0;32m   2559\u001b[0m         n_fft \u001b[39m=\u001b[39m \u001b[39m2\u001b[39m \u001b[39m*\u001b[39m (S\u001b[39m.\u001b[39mshape[\u001b[39m-\u001b[39m\u001b[39m2\u001b[39m] \u001b[39m-\u001b[39m \u001b[39m1\u001b[39m)\n\u001b[0;32m   2560\u001b[0m \u001b[39melse\u001b[39;00m:\n\u001b[0;32m   2561\u001b[0m     \u001b[39m# Otherwise, compute a magnitude spectrogram from input\u001b[39;00m\n\u001b[0;32m   2562\u001b[0m     S \u001b[39m=\u001b[39m (\n\u001b[0;32m   2563\u001b[0m         np\u001b[39m.\u001b[39mabs(\n\u001b[1;32m-> 2564\u001b[0m             stft(\n\u001b[0;32m   2565\u001b[0m                 y,\n\u001b[0;32m   2566\u001b[0m                 n_fft\u001b[39m=\u001b[39;49mn_fft,\n\u001b[0;32m   2567\u001b[0m                 hop_length\u001b[39m=\u001b[39;49mhop_length,\n\u001b[0;32m   2568\u001b[0m                 win_length\u001b[39m=\u001b[39;49mwin_length,\n\u001b[0;32m   2569\u001b[0m                 center\u001b[39m=\u001b[39;49mcenter,\n\u001b[0;32m   2570\u001b[0m                 window\u001b[39m=\u001b[39;49mwindow,\n\u001b[0;32m   2571\u001b[0m                 pad_mode\u001b[39m=\u001b[39;49mpad_mode,\n\u001b[0;32m   2572\u001b[0m             )\n\u001b[0;32m   2573\u001b[0m         )\n\u001b[0;32m   2574\u001b[0m         \u001b[39m*\u001b[39m\u001b[39m*\u001b[39m power\n\u001b[0;32m   2575\u001b[0m     )\n\u001b[0;32m   2577\u001b[0m \u001b[39mreturn\u001b[39;00m S, n_fft\n",
      "File \u001b[1;32m~\\AppData\\Local\\Packages\\PythonSoftwareFoundation.Python.3.10_qbz5n2kfra8p0\\LocalCache\\local-packages\\Python310\\site-packages\\librosa\\util\\decorators.py:88\u001b[0m, in \u001b[0;36mdeprecate_positional_args.<locals>._inner_deprecate_positional_args.<locals>.inner_f\u001b[1;34m(*args, **kwargs)\u001b[0m\n\u001b[0;32m     86\u001b[0m extra_args \u001b[39m=\u001b[39m \u001b[39mlen\u001b[39m(args) \u001b[39m-\u001b[39m \u001b[39mlen\u001b[39m(all_args)\n\u001b[0;32m     87\u001b[0m \u001b[39mif\u001b[39;00m extra_args \u001b[39m<\u001b[39m\u001b[39m=\u001b[39m \u001b[39m0\u001b[39m:\n\u001b[1;32m---> 88\u001b[0m     \u001b[39mreturn\u001b[39;00m f(\u001b[39m*\u001b[39margs, \u001b[39m*\u001b[39m\u001b[39m*\u001b[39mkwargs)\n\u001b[0;32m     90\u001b[0m \u001b[39m# extra_args > 0\u001b[39;00m\n\u001b[0;32m     91\u001b[0m args_msg \u001b[39m=\u001b[39m [\n\u001b[0;32m     92\u001b[0m     \u001b[39m\"\u001b[39m\u001b[39m{}\u001b[39;00m\u001b[39m=\u001b[39m\u001b[39m{}\u001b[39;00m\u001b[39m\"\u001b[39m\u001b[39m.\u001b[39mformat(name, arg)\n\u001b[0;32m     93\u001b[0m     \u001b[39mfor\u001b[39;00m name, arg \u001b[39min\u001b[39;00m \u001b[39mzip\u001b[39m(kwonly_args[:extra_args], args[\u001b[39m-\u001b[39mextra_args:])\n\u001b[0;32m     94\u001b[0m ]\n",
      "File \u001b[1;32m~\\AppData\\Local\\Packages\\PythonSoftwareFoundation.Python.3.10_qbz5n2kfra8p0\\LocalCache\\local-packages\\Python310\\site-packages\\librosa\\core\\spectrum.py:202\u001b[0m, in \u001b[0;36mstft\u001b[1;34m(y, n_fft, hop_length, win_length, window, center, dtype, pad_mode)\u001b[0m\n\u001b[0;32m    199\u001b[0m     hop_length \u001b[39m=\u001b[39m \u001b[39mint\u001b[39m(win_length \u001b[39m/\u001b[39m\u001b[39m/\u001b[39m \u001b[39m4\u001b[39m)\n\u001b[0;32m    201\u001b[0m \u001b[39m# Check audio is valid\u001b[39;00m\n\u001b[1;32m--> 202\u001b[0m util\u001b[39m.\u001b[39;49mvalid_audio(y, mono\u001b[39m=\u001b[39;49m\u001b[39mFalse\u001b[39;49;00m)\n\u001b[0;32m    204\u001b[0m fft_window \u001b[39m=\u001b[39m get_window(window, win_length, fftbins\u001b[39m=\u001b[39m\u001b[39mTrue\u001b[39;00m)\n\u001b[0;32m    206\u001b[0m \u001b[39m# Pad the window out to n_fft size\u001b[39;00m\n",
      "File \u001b[1;32m~\\AppData\\Local\\Packages\\PythonSoftwareFoundation.Python.3.10_qbz5n2kfra8p0\\LocalCache\\local-packages\\Python310\\site-packages\\librosa\\util\\decorators.py:88\u001b[0m, in \u001b[0;36mdeprecate_positional_args.<locals>._inner_deprecate_positional_args.<locals>.inner_f\u001b[1;34m(*args, **kwargs)\u001b[0m\n\u001b[0;32m     86\u001b[0m extra_args \u001b[39m=\u001b[39m \u001b[39mlen\u001b[39m(args) \u001b[39m-\u001b[39m \u001b[39mlen\u001b[39m(all_args)\n\u001b[0;32m     87\u001b[0m \u001b[39mif\u001b[39;00m extra_args \u001b[39m<\u001b[39m\u001b[39m=\u001b[39m \u001b[39m0\u001b[39m:\n\u001b[1;32m---> 88\u001b[0m     \u001b[39mreturn\u001b[39;00m f(\u001b[39m*\u001b[39margs, \u001b[39m*\u001b[39m\u001b[39m*\u001b[39mkwargs)\n\u001b[0;32m     90\u001b[0m \u001b[39m# extra_args > 0\u001b[39;00m\n\u001b[0;32m     91\u001b[0m args_msg \u001b[39m=\u001b[39m [\n\u001b[0;32m     92\u001b[0m     \u001b[39m\"\u001b[39m\u001b[39m{}\u001b[39;00m\u001b[39m=\u001b[39m\u001b[39m{}\u001b[39;00m\u001b[39m\"\u001b[39m\u001b[39m.\u001b[39mformat(name, arg)\n\u001b[0;32m     93\u001b[0m     \u001b[39mfor\u001b[39;00m name, arg \u001b[39min\u001b[39;00m \u001b[39mzip\u001b[39m(kwonly_args[:extra_args], args[\u001b[39m-\u001b[39mextra_args:])\n\u001b[0;32m     94\u001b[0m ]\n",
      "File \u001b[1;32m~\\AppData\\Local\\Packages\\PythonSoftwareFoundation.Python.3.10_qbz5n2kfra8p0\\LocalCache\\local-packages\\Python310\\site-packages\\librosa\\util\\utils.py:272\u001b[0m, in \u001b[0;36mvalid_audio\u001b[1;34m(y, mono)\u001b[0m\n\u001b[0;32m    216\u001b[0m \u001b[39m\"\"\"Determine whether a variable contains valid audio data.\u001b[39;00m\n\u001b[0;32m    217\u001b[0m \n\u001b[0;32m    218\u001b[0m \u001b[39mThe following conditions must be satisfied:\u001b[39;00m\n\u001b[1;32m   (...)\u001b[0m\n\u001b[0;32m    268\u001b[0m \u001b[39mnumpy.float32\u001b[39;00m\n\u001b[0;32m    269\u001b[0m \u001b[39m\"\"\"\u001b[39;00m\n\u001b[0;32m    271\u001b[0m \u001b[39mif\u001b[39;00m \u001b[39mnot\u001b[39;00m \u001b[39misinstance\u001b[39m(y, np\u001b[39m.\u001b[39mndarray):\n\u001b[1;32m--> 272\u001b[0m     \u001b[39mraise\u001b[39;00m ParameterError(\u001b[39m\"\u001b[39m\u001b[39mAudio data must be of type numpy.ndarray\u001b[39m\u001b[39m\"\u001b[39m)\n\u001b[0;32m    274\u001b[0m \u001b[39mif\u001b[39;00m \u001b[39mnot\u001b[39;00m np\u001b[39m.\u001b[39missubdtype(y\u001b[39m.\u001b[39mdtype, np\u001b[39m.\u001b[39mfloating):\n\u001b[0;32m    275\u001b[0m     \u001b[39mraise\u001b[39;00m ParameterError(\u001b[39m\"\u001b[39m\u001b[39mAudio data must be floating-point\u001b[39m\u001b[39m\"\u001b[39m)\n",
      "\u001b[1;31mParameterError\u001b[0m: Audio data must be of type numpy.ndarray"
     ]
    }
   ],
   "source": [
    "import librosa.display\n",
    "\n",
    "n_mels = 128\n",
    "hop_length = 512\n",
    "n_fft = 1024\n",
    "sample_rate = 100\n",
    "\n",
    "sample = ds\n",
    "\n",
    "audio_file =r'D:/1481637021654134785_sep.wav'\n",
    "audio_data, sr = librosa.load(audio_file, sr= 8000, mono=True)\n",
    "print(audio_data.shape)\n",
    "\n",
    "#extract melspec features using librosa\n",
    "S = librosa.feature.melspectrogram(sample, sr=sample_rate, n_fft=n_fft, hop_length=hop_length, n_mels=n_mels)\n",
    "\n",
    "#convert it to DB scale\n",
    "S_DB = librosa.power_to_db(S, ref=np.max)\n",
    "\n",
    "#display the spectrogram\n",
    "librosa.display.specshow(S_DB, sr=sample_rate, hop_length=hop_length, x_axis='time', y_axis='mel')\n",
    "plt.colorbar(format='%+2.0f dB')"
   ]
  }
 ],
 "metadata": {
  "kernelspec": {
   "display_name": "Python 3.10.8 64-bit (microsoft store)",
   "language": "python",
   "name": "python3"
  },
  "language_info": {
   "codemirror_mode": {
    "name": "ipython",
    "version": 3
   },
   "file_extension": ".py",
   "mimetype": "text/x-python",
   "name": "python",
   "nbconvert_exporter": "python",
   "pygments_lexer": "ipython3",
   "version": "3.10.8"
  },
  "vscode": {
   "interpreter": {
    "hash": "246279ad4a3bfb1f340db186b7bcef568bb2ca5d814e72eb7f8e96677295d5b4"
   }
  }
 },
 "nbformat": 4,
 "nbformat_minor": 5
}
